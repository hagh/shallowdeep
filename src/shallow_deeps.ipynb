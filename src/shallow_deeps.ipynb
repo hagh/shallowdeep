{
 "cells": [
  {
   "cell_type": "code",
   "execution_count": null,
   "metadata": {},
   "outputs": [],
   "source": [
    "import matplotlib.pyplot as plt\n",
    "import numpy as np\n",
    "import tf_utils as utils\n",
    "\n",
    "import tf_cnn as cnn\n",
    "import cnn_utils\n",
    "import tensorflow as tf"
   ]
  },
  {
   "cell_type": "code",
   "execution_count": null,
   "metadata": {},
   "outputs": [],
   "source": [
    "generateResizedImages = False\n",
    "reshuffleImages = False\n",
    "\n",
    "if generateResizedImages:\n",
    "    imresize.generate_resized_images(256)\n",
    "\n",
    "if reshuffleImages:\n",
    "    sourceFolders = ['E:\\\\Projects\\\\Hach2019\\\\Data\\\\ImageDataSetS256\\\\Plate',\n",
    "        'E:\\\\Projects\\\\Hach2019\\\\Data\\\\ImageDataSetS256\\\\NonePlate']\n",
    "    h5Target = 'E:\\\\Projects\\\\Hach2019\\\\Data\\\\ImageDataSetS256\\\\plate256.h5'\n",
    "    dataset = utils.partition_dataset(sourceFolders, 0.8, 0.0, 0.2)\n",
    "    utils.save_dataset_h5(target=h5Target, dataset=dataset)\n",
    "\n",
    "    print(\"dataset shapes:\")\n",
    "    print(\"train_set_x: \" + str(dataset[\"train_set_x\"].shape))\n",
    "    print(\"train_set_y: \" + str(dataset[\"train_set_y\"].shape))\n",
    "    print(\"cv_set_x: \" + str(dataset[\"cv_set_x\"].shape))\n",
    "    print(\"cv_set_y: \" + str(dataset[\"cv_set_y\"].shape))\n",
    "    print(\"test_set_x: \" + str(dataset[\"test_set_x\"].shape))\n",
    "    print(\"test_set_y: \" + str(dataset[\"test_set_y\"].shape))    \n",
    "    print(\"classes: \" + str(dataset[\"classes\"].shape))\n",
    "\n",
    "h5Source = 'E:\\\\Projects\\\\Hach2019\\\\Data\\\\ImageDataSetS256\\\\plate256.h5'\n",
    "tr_set_x, tr_set_y, cv_set_x, cv_set_y, ts_set_x, ts_set_y, classes = utils.load_dataset_h5(source=h5Source)\n",
    "\n",
    "tr_set_x_org = tr_set_x.copy()\n",
    "tr_set_y_org = tr_set_y.copy()\n",
    "\n",
    "tr_set_x = tr_set_x[:]\n",
    "tr_set_y = tr_set_y[:, :]\n",
    "\n",
    "print(\"loaded data shapes:\")\n",
    "print(\"tr_set_x: \" + str(tr_set_x.shape))\n",
    "print(\"tr_set_y: \" + str(tr_set_y.shape))\n",
    "print(\"ts_set_x: \" + str(ts_set_x.shape))\n",
    "print(\"ts_set_y: \" + str(ts_set_y.shape))\n",
    "print(\"cv_set_x: \" + str(cv_set_x.shape))\n",
    "print(\"cv_set_y: \" + str(cv_set_y.shape))\n",
    "print(\"classes: \" + str(classes.shape))"
   ]
  },
  {
   "cell_type": "code",
   "execution_count": null,
   "metadata": {},
   "outputs": [],
   "source": [
    "# show one of the images of class 0\n",
    "index = 6\n",
    "_, ax = plt.subplots()\n",
    "ax.imshow(np.uint8(tr_set_x[index]))\n",
    "print (\"y = \" + str(np.squeeze(tr_set_y[:, index])))\n",
    "plt.title(\"Class =\" + str(np.squeeze(tr_set_y[:, index])))\n",
    "plt.show()"
   ]
  },
  {
   "cell_type": "code",
   "execution_count": null,
   "metadata": {},
   "outputs": [],
   "source": [
    "import random\n",
    "from PIL import Image, ImageDraw\n",
    "\n",
    "def generate_random_image(width=256, height=256, scale=16):\n",
    "    w = int(width/scale)\n",
    "    h = int(height/scale)\n",
    "    rand_pixels = [random.randint(0, 255) for _ in range(w * h * 3)]\n",
    "    rand_pixels_as_bytes = bytes(rand_pixels)\n",
    "    random_image = Image.frombytes('RGB', (w, h), rand_pixels_as_bytes)\n",
    "    random_image = random_image.resize((width, height))\n",
    "    return random_image\n",
    "\n",
    "rand_img = generate_random_image()\n",
    "_, ax = plt.subplots()\n",
    "ax.imshow(np.uint8(rand_img))\n",
    "plt.title(\"Class = 1\")\n",
    "plt.show()"
   ]
  },
  {
   "cell_type": "code",
   "execution_count": null,
   "metadata": {},
   "outputs": [],
   "source": [
    "Modify = False\n",
    "if Modify:\n",
    "    start_idx = 108\n",
    "    end_idx = tr_set_x.shape[0]\n",
    "    width = tr_set_x.shape[1]\n",
    "    height = tr_set_x.shape[2]\n",
    "    print(start_idx, end_idx, width, height)\n",
    "    for i in range(start_idx, end_idx):\n",
    "        print('>', end=\"\")\n",
    "        tr_set_x[i] = generate_random_image(width=width, height=height, scale=32)"
   ]
  },
  {
   "cell_type": "markdown",
   "metadata": {},
   "source": [
    "Good param config:\n",
    "Cut-out: -80,\n",
    "Scale: 32,\n",
    "epochs: 30"
   ]
  },
  {
   "cell_type": "code",
   "execution_count": null,
   "metadata": {},
   "outputs": [],
   "source": [
    "# show one of the images of class 1\n",
    "index = 108\n",
    "_, ax = plt.subplots()\n",
    "ax.imshow(np.uint8(tr_set_x[index]))\n",
    "plt.title(\"Class =\" + str(np.squeeze(tr_set_y[:, index])))\n",
    "plt.show()"
   ]
  },
  {
   "cell_type": "code",
   "execution_count": null,
   "metadata": {},
   "outputs": [],
   "source": [
    "X_train = tr_set_x/255.\n",
    "Y_train = utils.convert_to_one_hot(np.uint(tr_set_y), 2).T\n",
    "X_test = ts_set_x/255.\n",
    "Y_test = utils.convert_to_one_hot(np.uint(ts_set_y), 2).T \n",
    "print (\"number of training examples = \" + str(X_train.shape[0]))\n",
    "print (\"number of test examples = \" + str(X_test.shape[0]))\n",
    "print (\"X_train shape: \" + str(X_train.shape))\n",
    "print (\"Y_train shape: \" + str(Y_train.shape))\n",
    "print (\"X_test shape: \" + str(X_test.shape))\n",
    "print (\"Y_test shape: \" + str(Y_test.shape))"
   ]
  },
  {
   "cell_type": "code",
   "execution_count": null,
   "metadata": {},
   "outputs": [],
   "source": [
    "print(tf.__version__)\n",
    "\n",
    "tf.compat.v1.disable_eager_execution()\n",
    "\n",
    "parameters, save_path = cnn.run_model(\n",
    "    X_train, Y_train, X_test, Y_test,\n",
    "    learning_rate=0.01, num_epochs=30, minibatch_size=64,\n",
    "    print_cost=True)"
   ]
  },
  {
   "cell_type": "code",
   "execution_count": null,
   "metadata": {
    "scrolled": true
   },
   "outputs": [],
   "source": [
    "prediction, z3 = cnn.predict(X_test, parameters, save_path)\n",
    "print(\"Z3:\", z3)\n",
    "print(\"Predictions:\", prediction)\n",
    "correct = np.sum(prediction == Y_test.T[1])\n",
    "print(\"Accuracy:\", correct/len(prediction))\n",
    "\n",
    "for i in range(len(prediction)):\n",
    "    title = \"Class = \" + str(np.squeeze(ts_set_y[:, i])) + \"  Prediction = \" + str(prediction[i])\n",
    "    #_, ax = plt.subplots()\n",
    "    #ax.imshow(np.uint8(ts_set_x[i]))\n",
    "    #plt.title(title)\n",
    "    #plt.show()\n",
    "\n",
    "prediction, _ = cnn.predict(tr_set_x_org/255., parameters, save_path)\n",
    "print(\"Predictions:\", prediction)\n",
    "correct = np.sum(prediction == tr_set_y_org)\n",
    "print(\"Accuracy:\", correct/len(prediction))\n",
    "\n",
    "_, ax = plt.subplots()\n",
    "ax.imshow(np.uint8(tr_set_x_org[128]))\n",
    "plt.title(title)\n",
    "plt.show()"
   ]
  },
  {
   "cell_type": "code",
   "execution_count": null,
   "metadata": {},
   "outputs": [],
   "source": []
  }
 ],
 "metadata": {
  "kernelspec": {
   "display_name": "Python 3 hack2020",
   "language": "python",
   "name": "python3"
  },
  "language_info": {
   "codemirror_mode": {
    "name": "ipython",
    "version": 3
   },
   "file_extension": ".py",
   "mimetype": "text/x-python",
   "name": "python",
   "nbconvert_exporter": "python",
   "pygments_lexer": "ipython3",
   "version": "3.8.3"
  }
 },
 "nbformat": 4,
 "nbformat_minor": 4
}
