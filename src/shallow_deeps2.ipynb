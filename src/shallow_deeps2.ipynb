{
 "cells": [
  {
   "cell_type": "code",
   "execution_count": null,
   "metadata": {},
   "outputs": [],
   "source": [
    "import matplotlib.pyplot as plt\n",
    "import numpy as np\n",
    "import tf_utils as utils\n",
    "\n",
    "import tf_cnn as cnn\n",
    "import cnn_utils\n",
    "import tensorflow as tf"
   ]
  },
  {
   "cell_type": "code",
   "execution_count": null,
   "metadata": {},
   "outputs": [],
   "source": [
    "from PIL import Image\n",
    "from os import listdir\n",
    "import matplotlib.image as img\n",
    "\n",
    "dog_img = []\n",
    "cat_img = []\n",
    "dog_add = '..\\\\dat\\\\cats_and_dogs\\\\training_set\\\\dogs'\n",
    "cat_add = '..\\\\dat\\\\cats_and_dogs\\\\training_set\\\\cats'\n",
    "add = [dog_add, cat_add]\n",
    "max_count = 500\n",
    "target_size = [256, 256]\n",
    "for i in add:\n",
    "    count = 1\n",
    "    for filename in listdir(i):\n",
    "        print(\".\", end=\"\")\n",
    "        image_data = img.imread(i + '\\\\' + filename)\n",
    "\n",
    "        original_image = Image.fromarray(np.uint8(image_data))\n",
    "        resized_image = original_image.resize(target_size)        \n",
    "        resized_image = np.array(resized_image)\n",
    "\n",
    "        if i == dog_add:\n",
    "            dog_img.append(resized_image)\n",
    "        else:\n",
    "            cat_img.append(resized_image)\n",
    "\n",
    "        count += 1\n",
    "        if count > max_count:\n",
    "            break\n",
    "\n",
    "    print()\n",
    "\n",
    "#creating labels for images\n",
    "img_labels = [0]*len(dog_img) + [1]*len(cat_img)\n",
    "all_img = dog_img + cat_img\n",
    "labels = {0:\"Dog\" , 1:\"Cat\"}"
   ]
  },
  {
   "cell_type": "code",
   "execution_count": null,
   "metadata": {},
   "outputs": [],
   "source": [
    "# show one of the images of class 0\n",
    "index = 6\n",
    "_, ax = plt.subplots()\n",
    "ax.imshow(np.uint8(all_img[index]))\n",
    "plt.title(\"Class = \" + str(np.squeeze(img_labels[index])))\n",
    "plt.show()"
   ]
  },
  {
   "cell_type": "code",
   "execution_count": null,
   "metadata": {},
   "outputs": [],
   "source": [
    "# show one of the images of class 1\n",
    "index = len(cat_img) + 3\n",
    "_, ax = plt.subplots()\n",
    "ax.imshow(np.uint8(all_img[index]))\n",
    "plt.title(\"Class = \" + str(np.squeeze(img_labels[index])))\n",
    "plt.show()"
   ]
  },
  {
   "cell_type": "code",
   "execution_count": null,
   "metadata": {},
   "outputs": [],
   "source": [
    "from sklearn.model_selection import train_test_split\n",
    "\n",
    "X_train_0, X_test_0, y_train, y_test = train_test_split(\n",
    "    all_img[:], img_labels[:], test_size=0.20)\n",
    "\n",
    "#converting X_train_0 and X_test_0 to numpy array (currently they are list)\n",
    "X_train_0 = np.asarray(X_train_0)\n",
    "y_train = np.asarray(y_train)\n",
    "X_test_0 = np.asarray(X_test_0)\n",
    "y_test = np.asarray(y_test)\n",
    "\n",
    "print(\"X_train_0 shape:\" + str(X_train_0.shape))\n",
    "print(\"y_train shape:\" + str(y_train.shape))\n",
    "print(\"X_test_0 shape:\" + str(X_test_0.shape))\n",
    "print(\"y_test shape:\" + str(y_test.shape))"
   ]
  },
  {
   "cell_type": "code",
   "execution_count": null,
   "metadata": {},
   "outputs": [],
   "source": [
    "import tf_utils as utils\n",
    "\n",
    "X_train = X_train_0/255.\n",
    "Y_train = utils.convert_to_one_hot(np.uint(y_train), 2).T\n",
    "X_test = X_test_0/255.\n",
    "Y_test = utils.convert_to_one_hot(np.uint(y_test), 2).T \n",
    "\n",
    "print (\"number of training examples = \" + str(X_train.shape[0]))\n",
    "print (\"number of test examples = \" + str(X_test.shape[0]))\n",
    "print (\"X_train shape: \" + str(X_train.shape))\n",
    "print (\"Y_train shape: \" + str(Y_train.shape))\n",
    "print (\"X_test shape: \" + str(X_test.shape))\n",
    "print (\"Y_test shape: \" + str(Y_test.shape))"
   ]
  },
  {
   "cell_type": "code",
   "execution_count": null,
   "metadata": {},
   "outputs": [],
   "source": [
    "print(tf.__version__)\n",
    "\n",
    "tf.compat.v1.disable_eager_execution()\n",
    "\n",
    "parameters, save_path = cnn.run_model(\n",
    "    X_train, Y_train, X_test, Y_test,\n",
    "    learning_rate=0.01, num_epochs=80, minibatch_size=64,\n",
    "    print_cost=True)"
   ]
  },
  {
   "cell_type": "code",
   "execution_count": null,
   "metadata": {
    "scrolled": true
   },
   "outputs": [],
   "source": [
    "s_idx = 0\n",
    "e_idx = 10\n",
    "X = X_test[s_idx:e_idx]\n",
    "_, ax = plt.subplots()\n",
    "ax.imshow(np.uint8(all_img[s_idx]))\n",
    "plt.title(\"Class = \" + str(np.squeeze(img_labels[s_idx])))\n",
    "plt.show()\n",
    "\n",
    "prediction = cnn.predict(X, parameters, save_path)\n",
    "print(\"Labels:    \", y_test[s_idx:e_idx])\n",
    "print(\"Prediction:\", prediction)\n",
    "\n",
    "prediction = cnn.predict(X_test, parameters, save_path)\n",
    "accuracy = np.sum(prediction == y_test)/len(prediction)\n",
    "print(\"Accuracy:\", accuracy)"
   ]
  },
  {
   "cell_type": "code",
   "execution_count": null,
   "metadata": {},
   "outputs": [],
   "source": [
    "\n"
   ]
  }
 ],
 "metadata": {
  "kernelspec": {
   "display_name": "Python 3",
   "language": "python",
   "name": "python3"
  },
  "language_info": {
   "codemirror_mode": {
    "name": "ipython",
    "version": 3
   },
   "file_extension": ".py",
   "mimetype": "text/x-python",
   "name": "python",
   "nbconvert_exporter": "python",
   "pygments_lexer": "ipython3",
   "version": "3.8.3"
  }
 },
 "nbformat": 4,
 "nbformat_minor": 4
}
